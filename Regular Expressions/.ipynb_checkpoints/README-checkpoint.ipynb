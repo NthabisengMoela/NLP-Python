{
 "cells": [
  {
   "cell_type": "markdown",
   "metadata": {},
   "source": [
    "# Regular Expressions\n",
    "\n",
    "### Finding substring\n",
    "- `string.find(substring, start, end)`\n",
    "- If substring is not found method returns -1.\n",
    "\n",
    "### Index function : returns index\n",
    "- `string.index(substring, start, end)`\n",
    "\n",
    "### Counting occurrences\n",
    "- Returns number of occurences for a speecified substring\n",
    "- `string.count(substring, start, end)`\n",
    "\n",
    "### Replacing substrings\n",
    "- `string.replace(old, new, count)`\n",
    "- count denotes how many occurences to replace\n",
    "\n",
    "\n",
    "\n"
   ]
  }
 ],
 "metadata": {
  "kernelspec": {
   "display_name": "Python 3",
   "language": "python",
   "name": "python3"
  },
  "language_info": {
   "codemirror_mode": {
    "name": "ipython",
    "version": 3
   },
   "file_extension": ".py",
   "mimetype": "text/x-python",
   "name": "python",
   "nbconvert_exporter": "python",
   "pygments_lexer": "ipython3",
   "version": "3.7.3"
  }
 },
 "nbformat": 4,
 "nbformat_minor": 2
}
